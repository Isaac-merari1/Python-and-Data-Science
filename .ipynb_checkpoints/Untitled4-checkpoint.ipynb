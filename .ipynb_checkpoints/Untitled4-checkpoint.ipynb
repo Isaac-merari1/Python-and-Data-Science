{
 "cells": [
  {
   "cell_type": "code",
   "execution_count": 18,
   "metadata": {},
   "outputs": [],
   "source": [
    "import pandas as pd\n",
    "import numpy as np\n",
    "import matplotlib.pyplot as plt\n",
    "import quandl"
   ]
  },
  {
   "cell_type": "code",
   "execution_count": 19,
   "metadata": {},
   "outputs": [],
   "source": [
    "quandl.ApiConfig.api_key = 'tXGNpsdpPcV7G1AJbzkk'\n"
   ]
  },
  {
   "cell_type": "code",
   "execution_count": 20,
   "metadata": {},
   "outputs": [],
   "source": [
    "data = quandl.get('BP/C02_EMMISSIONS_LKA')"
   ]
  },
  {
   "cell_type": "code",
   "execution_count": 22,
   "metadata": {},
   "outputs": [
    {
     "data": {
      "text/html": [
       "<div>\n",
       "<style scoped>\n",
       "    .dataframe tbody tr th:only-of-type {\n",
       "        vertical-align: middle;\n",
       "    }\n",
       "\n",
       "    .dataframe tbody tr th {\n",
       "        vertical-align: top;\n",
       "    }\n",
       "\n",
       "    .dataframe thead th {\n",
       "        text-align: right;\n",
       "    }\n",
       "</style>\n",
       "<table border=\"1\" class=\"dataframe\">\n",
       "  <thead>\n",
       "    <tr style=\"text-align: right;\">\n",
       "      <th></th>\n",
       "      <th>Value</th>\n",
       "    </tr>\n",
       "    <tr>\n",
       "      <th>Date</th>\n",
       "      <th></th>\n",
       "    </tr>\n",
       "  </thead>\n",
       "  <tbody>\n",
       "    <tr>\n",
       "      <th>1965-12-31</th>\n",
       "      <td>1.455060</td>\n",
       "    </tr>\n",
       "    <tr>\n",
       "      <th>1966-12-31</th>\n",
       "      <td>1.490169</td>\n",
       "    </tr>\n",
       "    <tr>\n",
       "      <th>1967-12-31</th>\n",
       "      <td>1.526254</td>\n",
       "    </tr>\n",
       "    <tr>\n",
       "      <th>1968-12-31</th>\n",
       "      <td>1.562765</td>\n",
       "    </tr>\n",
       "    <tr>\n",
       "      <th>1969-12-31</th>\n",
       "      <td>1.598968</td>\n",
       "    </tr>\n",
       "  </tbody>\n",
       "</table>\n",
       "</div>"
      ],
      "text/plain": [
       "               Value\n",
       "Date                \n",
       "1965-12-31  1.455060\n",
       "1966-12-31  1.490169\n",
       "1967-12-31  1.526254\n",
       "1968-12-31  1.562765\n",
       "1969-12-31  1.598968"
      ]
     },
     "execution_count": 22,
     "metadata": {},
     "output_type": "execute_result"
    }
   ],
   "source": [
    "data.head()"
   ]
  },
  {
   "cell_type": "code",
   "execution_count": 15,
   "metadata": {},
   "outputs": [],
   "source": [
    "clean = data.reset_index('Date')\n",
    "table = clean.pivot(columns='Value')"
   ]
  },
  {
   "cell_type": "code",
   "execution_count": 23,
   "metadata": {},
   "outputs": [
    {
     "data": {
      "text/html": [
       "<div>\n",
       "<style scoped>\n",
       "    .dataframe tbody tr th:only-of-type {\n",
       "        vertical-align: middle;\n",
       "    }\n",
       "\n",
       "    .dataframe tbody tr th {\n",
       "        vertical-align: top;\n",
       "    }\n",
       "\n",
       "    .dataframe thead th {\n",
       "        text-align: right;\n",
       "    }\n",
       "</style>\n",
       "<table border=\"1\" class=\"dataframe\">\n",
       "  <thead>\n",
       "    <tr style=\"text-align: right;\">\n",
       "      <th></th>\n",
       "      <th>Date</th>\n",
       "      <th>Value</th>\n",
       "    </tr>\n",
       "  </thead>\n",
       "  <tbody>\n",
       "    <tr>\n",
       "      <th>0</th>\n",
       "      <td>1965-12-31</td>\n",
       "      <td>1.455060</td>\n",
       "    </tr>\n",
       "    <tr>\n",
       "      <th>1</th>\n",
       "      <td>1966-12-31</td>\n",
       "      <td>1.490169</td>\n",
       "    </tr>\n",
       "    <tr>\n",
       "      <th>2</th>\n",
       "      <td>1967-12-31</td>\n",
       "      <td>1.526254</td>\n",
       "    </tr>\n",
       "    <tr>\n",
       "      <th>3</th>\n",
       "      <td>1968-12-31</td>\n",
       "      <td>1.562765</td>\n",
       "    </tr>\n",
       "    <tr>\n",
       "      <th>4</th>\n",
       "      <td>1969-12-31</td>\n",
       "      <td>1.598968</td>\n",
       "    </tr>\n",
       "  </tbody>\n",
       "</table>\n",
       "</div>"
      ],
      "text/plain": [
       "        Date     Value\n",
       "0 1965-12-31  1.455060\n",
       "1 1966-12-31  1.490169\n",
       "2 1967-12-31  1.526254\n",
       "3 1968-12-31  1.562765\n",
       "4 1969-12-31  1.598968"
      ]
     },
     "execution_count": 23,
     "metadata": {},
     "output_type": "execute_result"
    }
   ],
   "source": [
    "clean.head()"
   ]
  },
  {
   "cell_type": "code",
   "execution_count": 24,
   "metadata": {},
   "outputs": [
    {
     "name": "stdout",
     "output_type": "stream",
     "text": [
      "         Date      Value\n",
      "0  1965-12-31   1.455060\n",
      "1  1966-12-31   1.490169\n",
      "2  1967-12-31   1.526254\n",
      "3  1968-12-31   1.562765\n",
      "4  1969-12-31   1.598968\n",
      "5  1970-12-31   3.093259\n",
      "6  1971-12-31   2.866766\n",
      "7  1972-12-31   3.065717\n",
      "8  1973-12-31   3.210111\n",
      "9  1974-12-31   2.547031\n",
      "10 1975-12-31   2.459419\n",
      "11 1976-12-31   2.426898\n",
      "12 1977-12-31   2.590699\n",
      "13 1978-12-31   3.022125\n",
      "14 1979-12-31   3.116052\n",
      "15 1980-12-31   3.194978\n",
      "16 1981-12-31   3.763688\n",
      "17 1982-12-31   4.275946\n",
      "18 1983-12-31   4.667956\n",
      "19 1984-12-31   3.963701\n",
      "20 1985-12-31   3.574751\n",
      "21 1986-12-31   3.491199\n",
      "22 1987-12-31   4.028260\n",
      "23 1988-12-31   3.891824\n",
      "24 1989-12-31   3.671615\n",
      "25 1990-12-31   3.917121\n",
      "26 1991-12-31   4.146683\n",
      "27 1992-12-31   4.921080\n",
      "28 1993-12-31   4.728382\n",
      "29 1994-12-31   5.237526\n",
      "30 1995-12-31   5.688445\n",
      "31 1996-12-31   6.990671\n",
      "32 1997-12-31   7.638660\n",
      "33 1998-12-31   8.130929\n",
      "34 1999-12-31   8.885893\n",
      "35 2000-12-31  10.567441\n",
      "36 2001-12-31  10.430147\n",
      "37 2002-12-31  11.075163\n",
      "38 2003-12-31  11.149433\n",
      "39 2004-12-31  10.903799\n",
      "40 2005-12-31  12.561952\n",
      "41 2006-12-31  12.996898\n",
      "42 2007-12-31  13.813939\n",
      "43 2008-12-31  12.575279\n",
      "44 2009-12-31  13.234188\n",
      "45 2010-12-31  13.147079\n",
      "46 2011-12-31  14.823528\n",
      "47 2012-12-31  16.115513\n",
      "48 2013-12-31  13.954333\n",
      "49 2014-12-31  14.229928\n",
      "50 2015-12-31  17.872873\n",
      "51 2016-12-31  20.248585\n",
      "52 2017-12-31  21.707177\n",
      "53 2018-12-31  20.598847\n"
     ]
    }
   ],
   "source": [
    "print(clean)"
   ]
  },
  {
   "cell_type": "code",
   "execution_count": 27,
   "metadata": {},
   "outputs": [
    {
     "ename": "NameError",
     "evalue": "name 'fie' is not defined",
     "output_type": "error",
     "traceback": [
      "\u001b[1;31m---------------------------------------------------------------------------\u001b[0m",
      "\u001b[1;31mNameError\u001b[0m                                 Traceback (most recent call last)",
      "\u001b[1;32m<ipython-input-27-968b90b6db97>\u001b[0m in \u001b[0;36m<module>\u001b[1;34m\u001b[0m\n\u001b[0;32m      1\u001b[0m \u001b[0mfile\u001b[0m \u001b[1;33m=\u001b[0m \u001b[0mopen\u001b[0m\u001b[1;33m(\u001b[0m\u001b[1;34m'EnergyData.txt'\u001b[0m\u001b[1;33m,\u001b[0m\u001b[1;34m'a'\u001b[0m\u001b[1;33m)\u001b[0m\u001b[1;33m\u001b[0m\u001b[1;33m\u001b[0m\u001b[0m\n\u001b[1;32m----> 2\u001b[1;33m \u001b[0mfie\u001b[0m\u001b[1;33m.\u001b[0m\u001b[0mwrite\u001b[0m\u001b[1;33m(\u001b[0m\u001b[0mstr\u001b[0m\u001b[1;33m(\u001b[0m\u001b[0mclean\u001b[0m\u001b[1;33m)\u001b[0m\u001b[1;33m)\u001b[0m\u001b[1;33m\u001b[0m\u001b[1;33m\u001b[0m\u001b[0m\n\u001b[0m\u001b[0;32m      3\u001b[0m \u001b[0mfile\u001b[0m\u001b[1;33m.\u001b[0m\u001b[0mclose\u001b[0m\u001b[1;33m\u001b[0m\u001b[1;33m\u001b[0m\u001b[0m\n",
      "\u001b[1;31mNameError\u001b[0m: name 'fie' is not defined"
     ]
    }
   ],
   "source": [
    "file = open('EnergyData.txt','a')\n",
    "fie.write(str(clean))\n",
    "file.close"
   ]
  },
  {
   "cell_type": "code",
   "execution_count": null,
   "metadata": {},
   "outputs": [],
   "source": []
  }
 ],
 "metadata": {
  "kernelspec": {
   "display_name": "Python 3",
   "language": "python",
   "name": "python3"
  },
  "language_info": {
   "codemirror_mode": {
    "name": "ipython",
    "version": 3
   },
   "file_extension": ".py",
   "mimetype": "text/x-python",
   "name": "python",
   "nbconvert_exporter": "python",
   "pygments_lexer": "ipython3",
   "version": "3.8.3"
  }
 },
 "nbformat": 4,
 "nbformat_minor": 4
}
